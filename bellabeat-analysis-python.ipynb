{
 "cells": [
  {
   "cell_type": "markdown",
   "id": "05d4ce46",
   "metadata": {
    "_cell_guid": "b1076dfc-b9ad-4769-8c92-a6c4dae69d19",
    "_uuid": "8f2839f25d086af736a60e9eeb907d3b93b6e0e5",
    "papermill": {
     "duration": 0.010698,
     "end_time": "2022-10-06T04:31:41.958043",
     "exception": false,
     "start_time": "2022-10-06T04:31:41.947345",
     "status": "completed"
    },
    "tags": []
   },
   "source": [
    "## **Table of contents**  \n",
    "1. Introduction  \n",
    "    1.1 About Bellabeat  \n",
    "    1.2 Business Task  \n",
    "    1.3 Key stakeholders  \n",
    "2. Prepare  \n",
    "    2.1 Data type  \n",
    "    2.2 Data licensure, privacy and accessibility  \n",
    "    2.3 Data credibility  \n",
    "    2.4 Data integrity  \n",
    "3. Process data  \n",
    "    3.1 Setting up environment    \n",
    "         a) Loading packages  \n",
    "         b) Loading files  \n",
    "    3.2 Format time to R dttm  \n",
    "    3.3 Cleaning  \n",
    "4. Analyze  \n",
    "    4.1 Grade activity data by intensity (MET)  \n",
    "    4.2 Most active time of the day    \n",
    "    4.3 Analyze sleep data    \n",
    "    4.4 Observe correlation between sleep and activity  \n",
    "    4.5 Relationship between step count and calorie  \n",
    "    4.6 Filter the unique users to assess their BMI  \n",
    "    4.7 Daily activity levels  \n",
    "5. Data-driven recommendations    \n",
    "    5.1 Limitations and further exploration  \n",
    "    5.2 Recommendations"
   ]
  },
  {
   "cell_type": "markdown",
   "id": "3526472a",
   "metadata": {
    "papermill": {
     "duration": 0.009014,
     "end_time": "2022-10-06T04:31:41.976736",
     "exception": false,
     "start_time": "2022-10-06T04:31:41.967722",
     "status": "completed"
    },
    "tags": []
   },
   "source": [
    "# 1. **Introduction**"
   ]
  },
  {
   "cell_type": "markdown",
   "id": "7c9f7022",
   "metadata": {
    "papermill": {
     "duration": 0.008803,
     "end_time": "2022-10-06T04:31:41.994654",
     "exception": false,
     "start_time": "2022-10-06T04:31:41.985851",
     "status": "completed"
    },
    "tags": []
   },
   "source": [
    "### 1.1 About Bellabeat\n",
    "Bellabeat is a high-tech manufacturer of health-focused products for women. It is a successful small company, with enormous potential to become a larger player in the global smart device market.  \n",
    "\n",
    " ### 1.2 Business task: \n",
    "Analyzing smart device fitness data to help unlock new growth opportunities for the company.\n",
    "\n",
    " ### 1.3 Key stakeholders: \n",
    "Bellabeat executive team , i.e. Urška Srše(Bellabeat’s cofounder and Chief Creative Officer), Sando Mur (Mathematician and Bellabeat’s cofounder), and Bellabeat marketing analytics team.\n"
   ]
  },
  {
   "cell_type": "markdown",
   "id": "f601abd6",
   "metadata": {
    "papermill": {
     "duration": 0.008863,
     "end_time": "2022-10-06T04:31:42.014372",
     "exception": false,
     "start_time": "2022-10-06T04:31:42.005509",
     "status": "completed"
    },
    "tags": []
   },
   "source": [
    "# 2. **Prepare**"
   ]
  },
  {
   "cell_type": "markdown",
   "id": "424c1e1c",
   "metadata": {
    "papermill": {
     "duration": 0.008904,
     "end_time": "2022-10-06T04:31:42.032409",
     "exception": false,
     "start_time": "2022-10-06T04:31:42.023505",
     "status": "completed"
    },
    "tags": []
   },
   "source": [
    " ### 2.1 Data type:\n",
    "\n",
    "External data to augment decision-making, meet customer needs, predict supply and demand\n",
    "\n",
    " ### 2.2 Data licensure, privacy and accessibility:\n",
    "\n",
    "This is an  open data made available for public usage. Data is licensed under [CC0: Public Domain,](https://creativecommons.org/publicdomain/zero/1.0/) to copy, modify, distribute and perform the work, even for commercial purposes, all without asking permission. This dataset is made available through Mobius in Kaggle.\n",
    "\n",
    "### 2.3 Data credibility:\n",
    "\n",
    "This data been generated between 03.12.2016-05.12.2016, which is not a current data. Moreover, it is a relatively small dataset containing only 30 sample size with no demographic data, we couldn't know if the sample was subset of the population as a whole without any bias.\n",
    "\n",
    "### 2.4 Data integrity:\n",
    "\n",
    "Thirty eligible Fitbit users consented to the submission of personal tracker data, including minute-level output for physical activity, heart rate, and sleep monitoring. Considering the small sample size and short time-period data (two months), we are taking an operational approach for analysis. The population size remains unknown, thus the margin of error cannot be calculated."
   ]
  },
  {
   "cell_type": "markdown",
   "id": "7db6a6d2",
   "metadata": {
    "papermill": {
     "duration": 0.008887,
     "end_time": "2022-10-06T04:31:42.050524",
     "exception": false,
     "start_time": "2022-10-06T04:31:42.041637",
     "status": "completed"
    },
    "tags": []
   },
   "source": [
    "# 3. **Process** **data**"
   ]
  },
  {
   "cell_type": "markdown",
   "id": "94fdef38",
   "metadata": {
    "papermill": {
     "duration": 0.008848,
     "end_time": "2022-10-06T04:31:42.068557",
     "exception": false,
     "start_time": "2022-10-06T04:31:42.059709",
     "status": "completed"
    },
    "tags": []
   },
   "source": [
    "### 3.1 Setting up the environment \n",
    " #### a) Loading pacakges:\n",
    "- pandas\n",
    "- numpy\n",
    "- plotnine"
   ]
  },
  {
   "cell_type": "code",
   "execution_count": 1,
   "id": "5dd3c6d0",
   "metadata": {
    "execution": {
     "iopub.execute_input": "2022-10-06T04:31:42.089996Z",
     "iopub.status.busy": "2022-10-06T04:31:42.089036Z",
     "iopub.status.idle": "2022-10-06T04:31:45.008867Z",
     "shell.execute_reply": "2022-10-06T04:31:45.007712Z"
    },
    "papermill": {
     "duration": 2.933695,
     "end_time": "2022-10-06T04:31:45.011654",
     "exception": false,
     "start_time": "2022-10-06T04:31:42.077959",
     "status": "completed"
    },
    "tags": []
   },
   "outputs": [
    {
     "name": "stderr",
     "output_type": "stream",
     "text": [
      "/opt/conda/lib/python3.7/site-packages/geopandas/_compat.py:115: UserWarning: The Shapely GEOS version (3.9.1-CAPI-1.14.2) is incompatible with the GEOS version PyGEOS was compiled with (3.10.3-CAPI-1.16.1). Conversions between both will be slow.\n"
     ]
    }
   ],
   "source": [
    "import pandas as pd\n",
    "import numpy as np\n",
    "from plotnine import *"
   ]
  },
  {
   "cell_type": "markdown",
   "id": "8bf902d1",
   "metadata": {
    "papermill": {
     "duration": 0.00909,
     "end_time": "2022-10-06T04:31:45.030358",
     "exception": false,
     "start_time": "2022-10-06T04:31:45.021268",
     "status": "completed"
    },
    "tags": []
   },
   "source": [
    "Note: all the packages were already installed in the system, thus I had to simply load them. To install package use function `pip install` and then load the packages with function `import`"
   ]
  },
  {
   "cell_type": "markdown",
   "id": "def9457d",
   "metadata": {
    "papermill": {
     "duration": 0.009684,
     "end_time": "2022-10-06T04:31:45.049506",
     "exception": false,
     "start_time": "2022-10-06T04:31:45.039822",
     "status": "completed"
    },
    "tags": []
   },
   "source": [
    "#### b) Loading files"
   ]
  },
  {
   "cell_type": "markdown",
   "id": "3643545e",
   "metadata": {
    "papermill": {
     "duration": 0.009056,
     "end_time": "2022-10-06T04:31:45.068102",
     "exception": false,
     "start_time": "2022-10-06T04:31:45.059046",
     "status": "completed"
    },
    "tags": []
   },
   "source": [
    "Considering the objective of the task and careful inspection of the 17 datasets available, I have chosen the following dataset for further analysis:\n",
    "- met_minute_data\n",
    "- sleep_data\n",
    "- daily_steps_data\n",
    "- hourly_steps_data\n",
    "- daily_activity_data\n",
    "- weight_data"
   ]
  },
  {
   "cell_type": "code",
   "execution_count": 2,
   "id": "6cf91b39",
   "metadata": {
    "execution": {
     "iopub.execute_input": "2022-10-06T04:31:45.088440Z",
     "iopub.status.busy": "2022-10-06T04:31:45.088025Z",
     "iopub.status.idle": "2022-10-06T04:31:46.504197Z",
     "shell.execute_reply": "2022-10-06T04:31:46.503146Z"
    },
    "papermill": {
     "duration": 1.429292,
     "end_time": "2022-10-06T04:31:46.506823",
     "exception": false,
     "start_time": "2022-10-06T04:31:45.077531",
     "status": "completed"
    },
    "tags": []
   },
   "outputs": [],
   "source": [
    "met_minute_raw_data = pd.read_csv('../input/fitbit/Fitabase Data 4.12.16-5.12.16/minuteMETsNarrow_merged.csv')\n",
    "sleep_raw_data = pd.read_csv('../input/fitbit/Fitabase Data 4.12.16-5.12.16/sleepDay_merged.csv')\n",
    "daily_steps_raw_data = pd.read_csv('../input/fitbit/Fitabase Data 4.12.16-5.12.16/dailySteps_merged.csv')\n",
    "hourly_steps_raw_data = pd.read_csv('../input/fitbit/Fitabase Data 4.12.16-5.12.16/hourlySteps_merged.csv')\n",
    "daily_activity_raw_data = pd.read_csv('../input/fitbit/Fitabase Data 4.12.16-5.12.16/dailyActivity_merged.csv')\n",
    "weight_raw_data = pd.read_csv('../input/fitbit/Fitabase Data 4.12.16-5.12.16/weightLogInfo_merged.csv')"
   ]
  },
  {
   "cell_type": "markdown",
   "id": "9c4b37cc",
   "metadata": {
    "papermill": {
     "duration": 0.009483,
     "end_time": "2022-10-06T04:31:46.526347",
     "exception": false,
     "start_time": "2022-10-06T04:31:46.516864",
     "status": "completed"
    },
    "tags": []
   },
   "source": [
    "preview dataframe with function `df.head()`"
   ]
  },
  {
   "cell_type": "markdown",
   "id": "bfee8fa6",
   "metadata": {
    "papermill": {
     "duration": 0.009552,
     "end_time": "2022-10-06T04:31:46.545710",
     "exception": false,
     "start_time": "2022-10-06T04:31:46.536158",
     "status": "completed"
    },
    "tags": []
   },
   "source": [
    " ### 3.1 Format time to Python datetime\n",
    " \n",
    " Date and time inputs are in class 'char' by default, in order to manipulate data for analysis, we need to read date and time in date-time(dttm) format."
   ]
  },
  {
   "cell_type": "markdown",
   "id": "85b20b76",
   "metadata": {
    "papermill": {
     "duration": 0.009479,
     "end_time": "2022-10-06T04:31:46.565014",
     "exception": false,
     "start_time": "2022-10-06T04:31:46.555535",
     "status": "completed"
    },
    "tags": []
   },
   "source": [
    "First, we are reading the SleepDay(from the sleep_data) and ActivityDay(from the daily_step_data) columns in date format(mm-dd-yy)"
   ]
  },
  {
   "cell_type": "code",
   "execution_count": 3,
   "id": "b394cfe0",
   "metadata": {
    "execution": {
     "iopub.execute_input": "2022-10-06T04:31:46.586805Z",
     "iopub.status.busy": "2022-10-06T04:31:46.586405Z",
     "iopub.status.idle": "2022-10-06T04:31:49.312722Z",
     "shell.execute_reply": "2022-10-06T04:31:49.311617Z"
    },
    "papermill": {
     "duration": 2.740498,
     "end_time": "2022-10-06T04:31:49.315603",
     "exception": false,
     "start_time": "2022-10-06T04:31:46.575105",
     "status": "completed"
    },
    "tags": []
   },
   "outputs": [],
   "source": [
    "sleep_raw_data['Day']= pd.to_datetime(sleep_raw_data['SleepDay'])\n",
    "daily_steps_raw_data['Day'] = pd.to_datetime(daily_steps_raw_data['ActivityDay'])\n",
    "hourly_steps_raw_data['Day'] = pd.to_datetime(hourly_steps_raw_data['ActivityHour'])"
   ]
  },
  {
   "cell_type": "markdown",
   "id": "61d9567c",
   "metadata": {
    "papermill": {
     "duration": 0.009835,
     "end_time": "2022-10-06T04:31:49.335836",
     "exception": false,
     "start_time": "2022-10-06T04:31:49.326001",
     "status": "completed"
    },
    "tags": []
   },
   "source": [
    "Source: https://www.geeksforgeeks.org/convert-the-column-type-from-string-to-datetime-format-in-pandas-dataframe  \n",
    "Note: to view the formatting use function `df.info()`  "
   ]
  },
  {
   "cell_type": "markdown",
   "id": "85f973cd",
   "metadata": {
    "papermill": {
     "duration": 0.009812,
     "end_time": "2022-10-06T04:31:49.356176",
     "exception": false,
     "start_time": "2022-10-06T04:31:49.346364",
     "status": "completed"
    },
    "tags": []
   },
   "source": [
    "##### Note: Using POSIX class to read date and time in dttm format, as.Date() ignores all other characters in the string after converting the characters it recognizes as part of a date into a date class.\n",
    "Here I have used 'POSIXct' class to read in date-time format instead of 'POSIXlt', as transformation for date-time doesn't work with POSIXlt while working with plots.\n",
    "\n",
    "reference to read the column in 'date-time'(dttm) format: https://www.stat.berkeley.edu/~s133/dates.html and https://www.neonscience.org/resources/learning-hub/tutorials/dc-convert-date-time-posix-r"
   ]
  },
  {
   "cell_type": "markdown",
   "id": "735c56fc",
   "metadata": {
    "papermill": {
     "duration": 0.009426,
     "end_time": "2022-10-06T04:31:49.375600",
     "exception": false,
     "start_time": "2022-10-06T04:31:49.366174",
     "status": "completed"
    },
    "tags": []
   },
   "source": [
    "## 3.2 **Cleaning**\n",
    "\n",
    "### Pull out undesired columns, rename column name\n",
    "from the data frame hourly_steps I'm selecting column Id,StepTotal and ActivityHour; rename column ActivityHour as 'Day' for convenient merging with other dataset during further analysis"
   ]
  },
  {
   "cell_type": "code",
   "execution_count": 4,
   "id": "e4d0dc4a",
   "metadata": {
    "execution": {
     "iopub.execute_input": "2022-10-06T04:31:49.398131Z",
     "iopub.status.busy": "2022-10-06T04:31:49.397041Z",
     "iopub.status.idle": "2022-10-06T04:31:49.401943Z",
     "shell.execute_reply": "2022-10-06T04:31:49.400887Z"
    },
    "papermill": {
     "duration": 0.018699,
     "end_time": "2022-10-06T04:31:49.404419",
     "exception": false,
     "start_time": "2022-10-06T04:31:49.385720",
     "status": "completed"
    },
    "tags": []
   },
   "outputs": [],
   "source": [
    "hourly_steps_new_data = hourly_steps_raw_data #%>% select(Id,StepTotal,Day)"
   ]
  },
  {
   "cell_type": "markdown",
   "id": "aa83dc98",
   "metadata": {
    "papermill": {
     "duration": 0.009884,
     "end_time": "2022-10-06T04:31:49.424029",
     "exception": false,
     "start_time": "2022-10-06T04:31:49.414145",
     "status": "completed"
    },
    "tags": []
   },
   "source": [
    "### Remove empty rows\n",
    "\n",
    "from dataset met_minute_data remove empty rows if any"
   ]
  },
  {
   "cell_type": "code",
   "execution_count": 5,
   "id": "3d2aae72",
   "metadata": {
    "execution": {
     "iopub.execute_input": "2022-10-06T04:31:49.446226Z",
     "iopub.status.busy": "2022-10-06T04:31:49.444834Z",
     "iopub.status.idle": "2022-10-06T04:31:49.450848Z",
     "shell.execute_reply": "2022-10-06T04:31:49.449596Z"
    },
    "papermill": {
     "duration": 0.019778,
     "end_time": "2022-10-06T04:31:49.453362",
     "exception": false,
     "start_time": "2022-10-06T04:31:49.433584",
     "status": "completed"
    },
    "tags": []
   },
   "outputs": [],
   "source": [
    "# x <- subset(met_minute_raw_data, !complete.cases(met_minute_raw_data))"
   ]
  },
  {
   "cell_type": "markdown",
   "id": "09d2f039",
   "metadata": {
    "papermill": {
     "duration": 0.009228,
     "end_time": "2022-10-06T04:31:49.472406",
     "exception": false,
     "start_time": "2022-10-06T04:31:49.463178",
     "status": "completed"
    },
    "tags": []
   },
   "source": [
    "no empty rows or cells found\n",
    "Note: I have similarly checked with every dataset and no empty rows were found."
   ]
  },
  {
   "cell_type": "markdown",
   "id": "1e117c2c",
   "metadata": {
    "papermill": {
     "duration": 0.00961,
     "end_time": "2022-10-06T04:31:49.491792",
     "exception": false,
     "start_time": "2022-10-06T04:31:49.482182",
     "status": "completed"
    },
    "tags": []
   },
   "source": [
    "### remove rows containing no activities\n",
    "\n",
    "The input data set (daily_activity) may contain data points with no activity (step count = 0). Collect only the rows with a valid step count (non zero step count)."
   ]
  },
  {
   "cell_type": "code",
   "execution_count": 6,
   "id": "c4fabaad",
   "metadata": {
    "execution": {
     "iopub.execute_input": "2022-10-06T04:31:49.512809Z",
     "iopub.status.busy": "2022-10-06T04:31:49.512391Z",
     "iopub.status.idle": "2022-10-06T04:31:49.520282Z",
     "shell.execute_reply": "2022-10-06T04:31:49.519182Z"
    },
    "papermill": {
     "duration": 0.021261,
     "end_time": "2022-10-06T04:31:49.522764",
     "exception": false,
     "start_time": "2022-10-06T04:31:49.501503",
     "status": "completed"
    },
    "tags": []
   },
   "outputs": [],
   "source": [
    "daily_activity_new_data = daily_activity_raw_data[daily_activity_raw_data['TotalSteps'] > 0]"
   ]
  },
  {
   "cell_type": "markdown",
   "id": "31f04ff9",
   "metadata": {
    "papermill": {
     "duration": 0.009232,
     "end_time": "2022-10-06T04:31:49.541998",
     "exception": false,
     "start_time": "2022-10-06T04:31:49.532766",
     "status": "completed"
    },
    "tags": []
   },
   "source": [
    "### remove duplicates from met_minute dataset"
   ]
  },
  {
   "cell_type": "code",
   "execution_count": 7,
   "id": "ca4a9670",
   "metadata": {
    "execution": {
     "iopub.execute_input": "2022-10-06T04:31:49.563023Z",
     "iopub.status.busy": "2022-10-06T04:31:49.562586Z",
     "iopub.status.idle": "2022-10-06T04:31:50.049384Z",
     "shell.execute_reply": "2022-10-06T04:31:50.048132Z"
    },
    "papermill": {
     "duration": 0.500567,
     "end_time": "2022-10-06T04:31:50.052278",
     "exception": false,
     "start_time": "2022-10-06T04:31:49.551711",
     "status": "completed"
    },
    "tags": []
   },
   "outputs": [
    {
     "name": "stdout",
     "output_type": "stream",
     "text": [
      "0\n"
     ]
    }
   ],
   "source": [
    "met_minute_df = met_minute_raw_data.drop_duplicates(subset=['Id', 'ActivityMinute'], keep='first')\n",
    "number_of_duplicates = len(met_minute_raw_data) - len(met_minute_df)\n",
    "print(number_of_duplicates)"
   ]
  },
  {
   "cell_type": "markdown",
   "id": "de2460f5",
   "metadata": {
    "papermill": {
     "duration": 0.010868,
     "end_time": "2022-10-06T04:31:50.073228",
     "exception": false,
     "start_time": "2022-10-06T04:31:50.062360",
     "status": "completed"
    },
    "tags": []
   },
   "source": [
    "# 4. **Analyze**\n",
    "\n",
    "### 4.1 Grade activity data by intensity (MET)\n",
    "\n",
    "MET stands for the metabolic equivalent of task. One MET is the amount of energy used while sitting quietly. Physical activities may be rated using METs to indicate their intensity.\n",
    "\n",
    "METs can be translated into various categories according to the intensity of activities performed. Below is one such scale I used as reference in order to interpret the MET minutes into categories.\n",
    "\n",
    "|                    |                                                                                                                                          |\n",
    "|--------------------|----------------------------------------------------------------------------------------------------------------|\n",
    "| Sedentary          | Uses 1.5 or fewer METs. Examples are sitting, reclining, or lying down                                                                   |\n",
    "| Light intensity    | Uses from 1.6-3.0 METs. Examples are walking at a leisurely pace or standing in line at the store                                        |\n",
    "| Moderate intensity | Uses from 3.0-6.0 METs. Examples are walking briskly(https://www.hsph.harvard.edu/nutritionsource/walking/), vacuuming, or raking leaves |\n",
    "| Vigorous intensity | Uses from 6.0+ METs. Examples are walking very quickly, running, taking an aerobics class, or shoveling snow                             |\n",
    "\n",
    "Source: https://www.hsph.harvard.edu/nutritionsource/staying-active\n",
    "\n",
    "#### Calculate the time spent for each intensity levels\n",
    "\n",
    "To calculate the time, filter the MET values using the above MET scale the result is the data points of the specific intensity. Each point is for one minute. The total minutes for this activity level can be calculated by counting the number of rows in the dataframe (using the `len()` function)."
   ]
  },
  {
   "cell_type": "code",
   "execution_count": 8,
   "id": "0dbf9f78",
   "metadata": {
    "execution": {
     "iopub.execute_input": "2022-10-06T04:31:50.095298Z",
     "iopub.status.busy": "2022-10-06T04:31:50.094579Z",
     "iopub.status.idle": "2022-10-06T04:31:50.197403Z",
     "shell.execute_reply": "2022-10-06T04:31:50.196192Z"
    },
    "papermill": {
     "duration": 0.116751,
     "end_time": "2022-10-06T04:31:50.200013",
     "exception": false,
     "start_time": "2022-10-06T04:31:50.083262",
     "status": "completed"
    },
    "tags": []
   },
   "outputs": [
    {
     "data": {
      "text/html": [
       "<div>\n",
       "<style scoped>\n",
       "    .dataframe tbody tr th:only-of-type {\n",
       "        vertical-align: middle;\n",
       "    }\n",
       "\n",
       "    .dataframe tbody tr th {\n",
       "        vertical-align: top;\n",
       "    }\n",
       "\n",
       "    .dataframe thead th {\n",
       "        text-align: right;\n",
       "    }\n",
       "</style>\n",
       "<table border=\"1\" class=\"dataframe\">\n",
       "  <thead>\n",
       "    <tr style=\"text-align: right;\">\n",
       "      <th></th>\n",
       "      <th>type</th>\n",
       "      <th>time_in_minutes</th>\n",
       "    </tr>\n",
       "  </thead>\n",
       "  <tbody>\n",
       "    <tr>\n",
       "      <th>0</th>\n",
       "      <td>sedentary_minutes</td>\n",
       "      <td>7</td>\n",
       "    </tr>\n",
       "    <tr>\n",
       "      <th>1</th>\n",
       "      <td>light_intensity_minutes</td>\n",
       "      <td>0</td>\n",
       "    </tr>\n",
       "    <tr>\n",
       "      <th>2</th>\n",
       "      <td>moderate_intensity_minutes</td>\n",
       "      <td>1</td>\n",
       "    </tr>\n",
       "    <tr>\n",
       "      <th>3</th>\n",
       "      <td>high_intensity_minutes</td>\n",
       "      <td>1325572</td>\n",
       "    </tr>\n",
       "  </tbody>\n",
       "</table>\n",
       "</div>"
      ],
      "text/plain": [
       "                         type  time_in_minutes\n",
       "0           sedentary_minutes                7\n",
       "1     light_intensity_minutes                0\n",
       "2  moderate_intensity_minutes                1\n",
       "3      high_intensity_minutes          1325572"
      ]
     },
     "metadata": {},
     "output_type": "display_data"
    }
   ],
   "source": [
    "sedentary_minutes = len(met_minute_df[(met_minute_df['METs'] >= 0) & (met_minute_df['METs'] <= 1.5)])\n",
    "light_intensity_minutes = len(met_minute_df[(met_minute_df['METs'] >= 1.6) & (met_minute_df['METs'] <= 3)])\n",
    "moderate_intensity_minutes = len(met_minute_df[(met_minute_df['METs'] > 3) & (met_minute_df['METs'] <= 6)])\n",
    "high_intensity_minutes = len(met_minute_df[met_minute_df['METs'] > 6])\n",
    "\n",
    "# Create a dataframe with the intensity minutes\n",
    "activity_intensity = pd.DataFrame(data={'type': ['sedentary_minutes','light_intensity_minutes','moderate_intensity_minutes','high_intensity_minutes'], \n",
    "                                        'time_in_minutes': [sedentary_minutes, light_intensity_minutes,moderate_intensity_minutes, high_intensity_minutes]})\n",
    "display(activity_intensity)"
   ]
  },
  {
   "cell_type": "markdown",
   "id": "bbbf207b",
   "metadata": {
    "papermill": {
     "duration": 0.009817,
     "end_time": "2022-10-06T04:31:50.220117",
     "exception": false,
     "start_time": "2022-10-06T04:31:50.210300",
     "status": "completed"
    },
    "tags": []
   },
   "source": [
    "The result showcase users use the smart device while performing high intensity activities, while the other categories are negligible."
   ]
  },
  {
   "cell_type": "markdown",
   "id": "07599733",
   "metadata": {
    "papermill": {
     "duration": 0.009727,
     "end_time": "2022-10-06T04:31:50.239940",
     "exception": false,
     "start_time": "2022-10-06T04:31:50.230213",
     "status": "completed"
    },
    "tags": []
   },
   "source": [
    "### 4.2 Most active time of the day\n",
    "\n",
    "In order to discover the hourly steps taken by the users, I have obtained the hourly steps data, and summarized the total steps by users with relation to time.\n",
    "(Note: extract time from Date)\n",
    "\n",
    "\n",
    "Multiply the step count by the number of users to get the combined activity level of all users.\n",
    "Find the maximum step count by using the`max()` function to limit the height of the graph while plotting it.\n",
    "\n",
    "Plotting graph using `ggplot`"
   ]
  },
  {
   "cell_type": "code",
   "execution_count": 9,
   "id": "7c323c93",
   "metadata": {
    "execution": {
     "iopub.execute_input": "2022-10-06T04:31:50.262273Z",
     "iopub.status.busy": "2022-10-06T04:31:50.261496Z",
     "iopub.status.idle": "2022-10-06T04:31:50.926102Z",
     "shell.execute_reply": "2022-10-06T04:31:50.924865Z"
    },
    "papermill": {
     "duration": 0.67845,
     "end_time": "2022-10-06T04:31:50.928556",
     "exception": false,
     "start_time": "2022-10-06T04:31:50.250106",
     "status": "completed"
    },
    "tags": []
   },
   "outputs": [
    {
     "data": {
      "image/png": "[encoded data removed]",
      "text/plain": [
       "<Figure size 640x480 with 1 Axes>"
      ]
     },
     "metadata": {},
     "output_type": "display_data"
    },
    {
     "data": {
      "text/plain": [
       "<ggplot: (8753789959461)>"
      ]
     },
     "execution_count": 9,
     "metadata": {},
     "output_type": "execute_result"
    }
   ],
   "source": [
    "number_of_users = len(hourly_steps_new_data['Id'].unique().tolist())\n",
    "\n",
    "steps_at_time_of_day = hourly_steps_new_data.groupby(hourly_steps_new_data['Day'].dt.strftime('%H:%M')).sum()\n",
    "\n",
    "max_steps = steps_at_time_of_day['StepTotal'].max()\n",
    "\n",
    "ggplot(steps_at_time_of_day, aes(x='steps_at_time_of_day.index', y='StepTotal', fill='StepTotal')) + \\\n",
    "    geom_bar(stat='identity', position='dodge') + \\\n",
    "    labs(x='Time', y='Total Steps') + \\\n",
    "    scale_fill_gradientn(colors=['yellow', 'red'],\n",
    "                         breaks=[0, 7499 * number_of_users, 10000 * number_of_users, 12500 * number_of_users],\n",
    "                         labels=[\"Low Active\", \"Light active\",\"Active\",\"Highly active\"], \n",
    "                         limits=[0,max_steps]) + \\\n",
    "    theme(axis_text_x=element_text(angle=90))"
   ]
  },
  {
   "cell_type": "markdown",
   "id": "d505eed6",
   "metadata": {
    "papermill": {
     "duration": 0.010084,
     "end_time": "2022-10-06T04:31:50.949441",
     "exception": false,
     "start_time": "2022-10-06T04:31:50.939357",
     "status": "completed"
    },
    "tags": []
   },
   "source": [
    "The following pedometer indices have been developed to provide a guideline on steps and activity levels:\n",
    "* Sedentary is less than 5,000 steps per day \n",
    "* Low active is 5,000 to 7,499 steps per day\n",
    "* Somewhat active is 7,500 to 9,999 steps per day\n",
    "* Active is more than 10,000 steps per day\n",
    "* Highly active is more than 12,500  \n",
    "Studies using the 10,000 steps per day goal have shown weight loss, improved glucose tolerance, and reduced blood pressure from increased physical activity toward achieving this goal.\n",
    "source: https://www.10000steps.org.au/articles/healthy-lifestyles/counting-steps/\n",
    "\n",
    "\n",
    "As we can see from the graph above, the smart device users are active between 8am to 7pm; likewise, highly active between 12pm to 2pm and 5pm to 7pm. These are the essential hour where people are commuting to and fro work, and the 12pm-2pm hours are the lunch hours where most people find time for leisure from their busy schedule."
   ]
  },
  {
   "cell_type": "markdown",
   "id": "7b694ac5",
   "metadata": {
    "papermill": {
     "duration": 0.009998,
     "end_time": "2022-10-06T04:31:50.970035",
     "exception": false,
     "start_time": "2022-10-06T04:31:50.960037",
     "status": "completed"
    },
    "tags": []
   },
   "source": [
    "### 4.3 Analyse sleep data\n",
    "\n",
    "The sleep data 'sleepDay_merged.csv' has been imported and stored as 'sleep_raw_data'.\n",
    "We will consider the two columns `TotalMinutesAsleep` and `TotalTimeInBed` to analyse the correlation"
   ]
  },
  {
   "cell_type": "code",
   "execution_count": 10,
   "id": "e774fa42",
   "metadata": {
    "execution": {
     "iopub.execute_input": "2022-10-06T04:31:50.992423Z",
     "iopub.status.busy": "2022-10-06T04:31:50.992026Z",
     "iopub.status.idle": "2022-10-06T04:31:51.312951Z",
     "shell.execute_reply": "2022-10-06T04:31:51.312087Z"
    },
    "papermill": {
     "duration": 0.334727,
     "end_time": "2022-10-06T04:31:51.315078",
     "exception": false,
     "start_time": "2022-10-06T04:31:50.980351",
     "status": "completed"
    },
    "tags": []
   },
   "outputs": [
    {
     "data": {
      "image/png": "[encoded data removed]",
      "text/plain": [
       "<Figure size 640x480 with 1 Axes>"
      ]
     },
     "metadata": {},
     "output_type": "display_data"
    },
    {
     "data": {
      "text/plain": [
       "<ggplot: (8753789947653)>"
      ]
     },
     "execution_count": 10,
     "metadata": {},
     "output_type": "execute_result"
    }
   ],
   "source": [
    "sleep_summary = sleep_raw_data[['TotalMinutesAsleep','TotalTimeInBed']].mean()\n",
    "sleep_summary_df= pd.DataFrame(data={'Activity':['TotalMinutesAsleep','TotalTimeInBed'], 'Minutes': sleep_summary})\n",
    "\n",
    "ggplot(sleep_summary_df, aes(x='Activity', y='Minutes', fill='Activity')) + \\\n",
    "       geom_bar(stat='identity', position='dodge')"
   ]
  },
  {
   "cell_type": "markdown",
   "id": "229ca1a9",
   "metadata": {
    "papermill": {
     "duration": 0.010866,
     "end_time": "2022-10-06T04:31:51.337349",
     "exception": false,
     "start_time": "2022-10-06T04:31:51.326483",
     "status": "completed"
    },
    "tags": []
   },
   "source": [
    "As we can see people spend more time in bed vs they are asleep. For some people it might be a challenge getting to sleep, while there can be numerous reasons for it, one might be using phone or watching tv on bed (more screen time in bed reduces your sleep and sleep quality).\n",
    "Sample size for this data is 24, which is very small size, a large dataset with more observations is needed to make an accurate analysis."
   ]
  },
  {
   "cell_type": "markdown",
   "id": "065f212a",
   "metadata": {
    "papermill": {
     "duration": 0.010738,
     "end_time": "2022-10-06T04:31:51.359285",
     "exception": false,
     "start_time": "2022-10-06T04:31:51.348547",
     "status": "completed"
    },
    "tags": []
   },
   "source": [
    "### 4.4 Observe correlation between sleep and activity\n",
    "\n",
    "Let's consider the sleep data and daily steps data, merge both the datasets with their Id and Day to create sleep vs activity visualization."
   ]
  },
  {
   "cell_type": "code",
   "execution_count": 11,
   "id": "69ad8bb6",
   "metadata": {
    "execution": {
     "iopub.execute_input": "2022-10-06T04:31:51.383400Z",
     "iopub.status.busy": "2022-10-06T04:31:51.382705Z",
     "iopub.status.idle": "2022-10-06T04:31:51.748284Z",
     "shell.execute_reply": "2022-10-06T04:31:51.747098Z"
    },
    "papermill": {
     "duration": 0.380843,
     "end_time": "2022-10-06T04:31:51.751138",
     "exception": false,
     "start_time": "2022-10-06T04:31:51.370295",
     "status": "completed"
    },
    "tags": []
   },
   "outputs": [
    {
     "data": {
      "image/png": "[encoded data removed]",
      "text/plain": [
       "<Figure size 640x480 with 1 Axes>"
      ]
     },
     "metadata": {},
     "output_type": "display_data"
    },
    {
     "data": {
      "text/plain": [
       "<ggplot: (8753789950909)>"
      ]
     },
     "execution_count": 11,
     "metadata": {},
     "output_type": "execute_result"
    }
   ],
   "source": [
    "daily_sleep_step_data = sleep_raw_data[['Id','Day','TotalMinutesAsleep']].merge(daily_steps_raw_data[['Id','Day','StepTotal']],\n",
    "                        on = ['Id','Day'],how = 'left').drop_duplicates(subset=['Id'])\n",
    "\n",
    "daily_sleep_step_data\n",
    "ggplot(daily_sleep_step_data, aes(y='TotalMinutesAsleep', x='StepTotal')) + \\\n",
    "       geom_smooth(method= \"lm\", se= False, color=\"red\") + geom_point()"
   ]
  },
  {
   "cell_type": "markdown",
   "id": "d2a582ab",
   "metadata": {
    "papermill": {
     "duration": 0.011366,
     "end_time": "2022-10-06T04:31:51.774824",
     "exception": false,
     "start_time": "2022-10-06T04:31:51.763458",
     "status": "completed"
    },
    "tags": []
   },
   "source": [
    "Note: 'lm' adds linear trend line, \"se=FALSE\" argument hides the shaded confidence region around the trend line.\n",
    "\n",
    "ref. link https://www.statology.org/ggplot-trendline/"
   ]
  },
  {
   "cell_type": "markdown",
   "id": "c7e97d35",
   "metadata": {
    "papermill": {
     "duration": 0.011545,
     "end_time": "2022-10-06T04:31:51.798765",
     "exception": false,
     "start_time": "2022-10-06T04:31:51.787220",
     "status": "completed"
    },
    "tags": []
   },
   "source": [
    "As we can see, no significant correlation is noticed between daily steps and sleep. However, there isn't enough data to prove this conclusion."
   ]
  },
  {
   "cell_type": "markdown",
   "id": "979bd8e1",
   "metadata": {
    "papermill": {
     "duration": 0.011471,
     "end_time": "2022-10-06T04:31:51.822104",
     "exception": false,
     "start_time": "2022-10-06T04:31:51.810633",
     "status": "completed"
    },
    "tags": []
   },
   "source": [
    "### 4.5 Relationship between step count and calorie\n",
    "\n",
    "To calculate and interpret relationship between the two variables 'TotalSteps' and 'Calories', we are considering the dataset daily activity, group them by the  key variable 'Id' and aggregate by the adding the variables. A scatterplot could be displayed for analyzing the correlation between the two variables.  \n",
    "ref. for data aggregation: https://pandas.pydata.org/docs/reference/api/pandas.DataFrame.aggregate.html"
   ]
  },
  {
   "cell_type": "code",
   "execution_count": 12,
   "id": "35df08b1",
   "metadata": {
    "execution": {
     "iopub.execute_input": "2022-10-06T04:31:51.848458Z",
     "iopub.status.busy": "2022-10-06T04:31:51.847723Z",
     "iopub.status.idle": "2022-10-06T04:31:52.392813Z",
     "shell.execute_reply": "2022-10-06T04:31:52.392027Z"
    },
    "papermill": {
     "duration": 0.560584,
     "end_time": "2022-10-06T04:31:52.394818",
     "exception": false,
     "start_time": "2022-10-06T04:31:51.834234",
     "status": "completed"
    },
    "tags": []
   },
   "outputs": [
    {
     "data": {
      "image/png": "[encoded data removed]",
      "text/plain": [
       "<Figure size 640x480 with 1 Axes>"
      ]
     },
     "metadata": {},
     "output_type": "display_data"
    },
    {
     "data": {
      "text/plain": [
       "<ggplot: (8753789794633)>"
      ]
     },
     "execution_count": 12,
     "metadata": {},
     "output_type": "execute_result"
    }
   ],
   "source": [
    "sum_daily_activity_df =daily_activity_new_data.groupby(daily_activity_new_data['Id']). \\\n",
    "                        agg(TotalSteps=('TotalSteps',sum),Calories=('Calories',sum))\n",
    "                        \n",
    "ggplot(daily_activity_new_data, aes(x='Calories', y='TotalSteps')) + \\\n",
    "    geom_point() + geom_jitter() + geom_smooth(method=\"lm\", se=False, color=\"red\")"
   ]
  },
  {
   "cell_type": "markdown",
   "id": "a138c9cc",
   "metadata": {
    "papermill": {
     "duration": 0.012465,
     "end_time": "2022-10-06T04:31:52.420195",
     "exception": false,
     "start_time": "2022-10-06T04:31:52.407730",
     "status": "completed"
    },
    "tags": []
   },
   "source": [
    " The correlation graph above show the data points gradually group together to form a linear line. It is evident, the two variables 'step count' and'calories' have a moderate correlation with each other. As the step count increase, the amount of calorie burnt too increase. However, with more data we could achieve more reliable conclusion. Nevertheless, it is essential to note that a correlation can never always mean causation.\n",
    " \n",
    " Source for interpreting a correlation graph: https://www.westga.edu/academics/research/vrc/assets/docs/scatterplots_and_correlation_notes.pdf"
   ]
  },
  {
   "cell_type": "markdown",
   "id": "4d549c77",
   "metadata": {
    "papermill": {
     "duration": 0.012254,
     "end_time": "2022-10-06T04:31:52.445489",
     "exception": false,
     "start_time": "2022-10-06T04:31:52.433235",
     "status": "completed"
    },
    "tags": []
   },
   "source": [
    "### 4.6 Filter the unique users to assess their BMI\n",
    "\n",
    "Import the BMI data, view sample size by calculating the count of unique Id."
   ]
  },
  {
   "cell_type": "code",
   "execution_count": 13,
   "id": "4f5ec540",
   "metadata": {
    "execution": {
     "iopub.execute_input": "2022-10-06T04:31:52.472571Z",
     "iopub.status.busy": "2022-10-06T04:31:52.472130Z",
     "iopub.status.idle": "2022-10-06T04:31:52.479884Z",
     "shell.execute_reply": "2022-10-06T04:31:52.478729Z"
    },
    "papermill": {
     "duration": 0.023956,
     "end_time": "2022-10-06T04:31:52.482095",
     "exception": false,
     "start_time": "2022-10-06T04:31:52.458139",
     "status": "completed"
    },
    "tags": []
   },
   "outputs": [
    {
     "data": {
      "text/plain": [
       "8"
      ]
     },
     "execution_count": 13,
     "metadata": {},
     "output_type": "execute_result"
    }
   ],
   "source": [
    "weight_data = len(weight_raw_data['Id'].unique())\n",
    "weight_data"
   ]
  },
  {
   "cell_type": "markdown",
   "id": "b3710cb5",
   "metadata": {
    "papermill": {
     "duration": 0.012248,
     "end_time": "2022-10-06T04:31:52.507028",
     "exception": false,
     "start_time": "2022-10-06T04:31:52.494780",
     "status": "completed"
    },
    "tags": []
   },
   "source": [
    "Same size is 8. Since the sample size is very small, a conclusive recommendation could not be achieved with this analysis. It is important to gather recommemdation only from data that are random, accurate and unbiased."
   ]
  },
  {
   "cell_type": "markdown",
   "id": "7125306a",
   "metadata": {
    "papermill": {
     "duration": 0.012341,
     "end_time": "2022-10-06T04:31:52.531893",
     "exception": false,
     "start_time": "2022-10-06T04:31:52.519552",
     "status": "completed"
    },
    "tags": []
   },
   "source": [
    "### 4.7 Daily activity levels\n",
    "\n",
    "Calculate the percentage of activity intensity (sedentery to very active) over the total distance the users were active with the smart device."
   ]
  },
  {
   "cell_type": "code",
   "execution_count": 14,
   "id": "75b7006b",
   "metadata": {
    "execution": {
     "iopub.execute_input": "2022-10-06T04:31:52.559321Z",
     "iopub.status.busy": "2022-10-06T04:31:52.558527Z",
     "iopub.status.idle": "2022-10-06T04:31:52.860299Z",
     "shell.execute_reply": "2022-10-06T04:31:52.859336Z"
    },
    "papermill": {
     "duration": 0.318456,
     "end_time": "2022-10-06T04:31:52.863018",
     "exception": false,
     "start_time": "2022-10-06T04:31:52.544562",
     "status": "completed"
    },
    "tags": []
   },
   "outputs": [
    {
     "data": {
      "text/html": [
       "<div>\n",
       "<style scoped>\n",
       "    .dataframe tbody tr th:only-of-type {\n",
       "        vertical-align: middle;\n",
       "    }\n",
       "\n",
       "    .dataframe tbody tr th {\n",
       "        vertical-align: top;\n",
       "    }\n",
       "\n",
       "    .dataframe thead th {\n",
       "        text-align: right;\n",
       "    }\n",
       "</style>\n",
       "<table border=\"1\" class=\"dataframe\">\n",
       "  <thead>\n",
       "    <tr style=\"text-align: right;\">\n",
       "      <th></th>\n",
       "      <th>percentage</th>\n",
       "    </tr>\n",
       "    <tr>\n",
       "      <th>activity</th>\n",
       "      <th></th>\n",
       "    </tr>\n",
       "  </thead>\n",
       "  <tbody>\n",
       "    <tr>\n",
       "      <th>very active</th>\n",
       "      <td>27.372721</td>\n",
       "    </tr>\n",
       "    <tr>\n",
       "      <th>moderately active</th>\n",
       "      <td>10.338312</td>\n",
       "    </tr>\n",
       "    <tr>\n",
       "      <th>light active</th>\n",
       "      <td>60.856110</td>\n",
       "    </tr>\n",
       "    <tr>\n",
       "      <th>sedentery</th>\n",
       "      <td>0.029262</td>\n",
       "    </tr>\n",
       "  </tbody>\n",
       "</table>\n",
       "</div>"
      ],
      "text/plain": [
       "                   percentage\n",
       "activity                     \n",
       "very active         27.372721\n",
       "moderately active   10.338312\n",
       "light active        60.856110\n",
       "sedentery            0.029262"
      ]
     },
     "metadata": {},
     "output_type": "display_data"
    },
    {
     "data": {
      "image/png": "[encoded data removed]",
      "text/plain": [
       "<Figure size 504x504 with 1 Axes>"
      ]
     },
     "metadata": {},
     "output_type": "display_data"
    }
   ],
   "source": [
    "very_active = sum(daily_activity_raw_data.VeryActiveDistance) / sum(daily_activity_raw_data.TotalDistance) * 100\n",
    "moderately_active = sum(daily_activity_raw_data.ModeratelyActiveDistance) / sum(daily_activity_raw_data.TotalDistance) * 100\n",
    "light_active = sum(daily_activity_raw_data.LightActiveDistance) / sum(daily_activity_raw_data.TotalDistance) * 100\n",
    "sedentery = sum(daily_activity_raw_data.SedentaryActiveDistance) / sum(daily_activity_raw_data.TotalDistance) * 100\n",
    "\n",
    "activity_levels = pd.DataFrame(data={\n",
    "                    'activity': ('very active', 'moderately active', 'light active', 'sedentery'),\n",
    "                    'percentage':(very_active, moderately_active, light_active, sedentery)\n",
    "                   })\n",
    "\n",
    "activity_levels = activity_levels.set_index('activity')\n",
    "activity_levels.plot.pie(y='percentage', figsize=(7,7))\n",
    "\n",
    "display(activity_levels)"
   ]
  },
  {
   "cell_type": "markdown",
   "id": "c283171d",
   "metadata": {
    "papermill": {
     "duration": 0.013138,
     "end_time": "2022-10-06T04:31:52.889639",
     "exception": false,
     "start_time": "2022-10-06T04:31:52.876501",
     "status": "completed"
    },
    "tags": []
   },
   "source": [
    "Major group of people using the smart device are lightly active over their activity duration than other users who are very and moderately active. Only negligble number of people were found to be sedentary while using the smart device."
   ]
  },
  {
   "cell_type": "markdown",
   "id": "befa207d",
   "metadata": {
    "papermill": {
     "duration": 0.012962,
     "end_time": "2022-10-06T04:31:52.915950",
     "exception": false,
     "start_time": "2022-10-06T04:31:52.902988",
     "status": "completed"
    },
    "tags": []
   },
   "source": [
    "# 5. **Data-driven recommendations**\n",
    "\n",
    "### 5.1 Limitations and further explorations\n",
    "\n",
    "- As Bellabeat is a high-tech manufacturer of health focused products for women, due to the lack of demographic details in the data provided it is unable to lay out womencentric recommendations from the data.\n",
    "- Likewise, due to the small sample size and limited time of study a conclusive analysis wasn't quite possible.\n",
    "- Dwelling into the Bellabeat-user data could grant more powerful insights useful for the growth of the company.\n",
    "\n",
    "### 5.2 Recommendations\n",
    "\n",
    "1. Sleep is essential for the over all well-being, thus, introducting features in the app which could send notifications in an interval of 30 mins. as a **reminder for sleep**. User could be allowed to set a alarm for sleep (for atleast 7-8 hours for aults),the customer could switch on the timer as soon as he/she gets into the bed; thus, not wasting time on bed and tracking the duration of sleep.\n",
    "\n",
    "2. Introducing various activity recommendations according to the activity level. Customers can get a **feedback about the intensity** of their activity by calculating METs (Metabolic Equivalent: MET stands for the metabolic equivalent of task. One MET is the amount of energy used while sitting quietly. Physical activities may be rated using METs to indicate their intensity). The more the intensity, the better the heart health. \n",
    "\n",
    "3. 10,000 steps per day goal: As most customers are learnt to be working people looking at the active hours i.e.between 8am to 7pm and most active during their lunch and after work hours, a notification could be sent targetting those hours to encourage activity and display the calorie burnt, also letting them manually log their weight. Adding additional features such as a **weekly feedback in the form of attractive visualizations, rewards for achieving target in the form of a badge could attract more attention.**\n",
    "\n",
    "4. Creating a healthy **competitive environment** among the Bellabeat users could be more interesting. Letting **people connect through the apps, and knowing one anothers achievement** could be possibly exciting, insipring and motivate to keep going and do better. It would also let make new friends sharing common interest.\n",
    "\n",
    "5. **Period tracker** is also good for tracking the monthly cycle and ruling out any abnormalities or potential health crisis.\n",
    "\n",
    "- Overall, a product with long lasting battery and fast charging to be highly reliable\n",
    "- Aesthetically pleasing so that it could be worn with all type of outfits\n",
    "- Products should be available with options varying in size, colors and shapes for personalization\n",
    "- Water-proof products so that it could be worn almost all the time, such as even during swimming activities."
   ]
  }
 ],
 "metadata": {
  "kernelspec": {
   "display_name": "Python 3",
   "language": "python",
   "name": "python3"
  },
  "language_info": {
   "codemirror_mode": {
    "name": "ipython",
    "version": 3
   },
   "file_extension": ".py",
   "mimetype": "text/x-python",
   "name": "python",
   "nbconvert_exporter": "python",
   "pygments_lexer": "ipython3",
   "version": "3.7.12"
  },
  "papermill": {
   "default_parameters": {},
   "duration": 20.56324,
   "end_time": "2022-10-06T04:31:53.852169",
   "environment_variables": {},
   "exception": null,
   "input_path": "__notebook__.ipynb",
   "output_path": "__notebook__.ipynb",
   "parameters": {},
   "start_time": "2022-10-06T04:31:33.288929",
   "version": "2.3.4"
  }
 },
 "nbformat": 4,
 "nbformat_minor": 5
}
